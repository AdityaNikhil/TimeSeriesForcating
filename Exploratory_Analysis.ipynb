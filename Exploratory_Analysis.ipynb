{
  "nbformat": 4,
  "nbformat_minor": 0,
  "metadata": {
    "colab": {
      "name": "Exploratory_Analysis.ipynb",
      "provenance": [],
      "collapsed_sections": []
    },
    "kernelspec": {
      "name": "python3",
      "display_name": "Python 3"
    }
  },
  "cells": [
    {
      "cell_type": "markdown",
      "metadata": {
        "id": "D1tDpVGoFJHB",
        "colab_type": "text"
      },
      "source": [
        "## Unicorn Investors wants to make an investment in a new form of transportation - JetRail. JetRail uses Jet propulsion technology to run rails and move people at a high speed! The investment would only make sense, if they can get more than 1 Million monthly users with in next 18 months. In order to help Unicorn Ventures in their decision, you need to forecast the traffic on JetRail for the next 7 months. You are provided with traffic data of JetRail since inception in the test file."
      ]
    },
    {
      "cell_type": "code",
      "metadata": {
        "id": "YoBwROzsvGl2",
        "colab_type": "code",
        "colab": {}
      },
      "source": [
        "import pandas as pd\n",
        "import numpy as np\n",
        "import matplotlib.pyplot as plt\n",
        "from datetime import datetime\n",
        "from pandas import Series        # To work on series \n",
        "%matplotlib inline \n",
        "import warnings                   # To ignore the warnings warnings.filterwarnings(\"ignore\")"
      ],
      "execution_count": 0,
      "outputs": []
    },
    {
      "cell_type": "code",
      "metadata": {
        "id": "vVZyy_NsvYs7",
        "colab_type": "code",
        "colab": {}
      },
      "source": [
        "train=pd.read_csv(\"Train_SU63ISt.csv\") \n",
        "test=pd.read_csv(\"Test_0qrQsBZ.csv\")"
      ],
      "execution_count": 0,
      "outputs": []
    },
    {
      "cell_type": "code",
      "metadata": {
        "id": "Ly7pTjK4vtWv",
        "colab_type": "code",
        "colab": {}
      },
      "source": [
        "#Let’s make a copy of train and test data so that even if we do changes in these dataset we do not lose the original dataset.\n",
        "\n",
        "train_original=train.copy() \n",
        "test_original=test.copy()"
      ],
      "execution_count": 0,
      "outputs": []
    },
    {
      "cell_type": "code",
      "metadata": {
        "id": "Q92UZuxDvyKO",
        "colab_type": "code",
        "outputId": "66308ae2-fad3-4573-ecfb-d6222379aa13",
        "colab": {
          "base_uri": "https://localhost:8080/",
          "height": 195
        }
      },
      "source": [
        "print(\"Datatypes of train file : \\n\", train_original.dtypes)\n",
        "print(\"\\nDatatypes of test file : \\n\", test_original.dtypes)"
      ],
      "execution_count": 0,
      "outputs": [
        {
          "output_type": "stream",
          "text": [
            "Datatypes of train file : \n",
            " ID           int64\n",
            "Datetime    object\n",
            "Count        int64\n",
            "dtype: object\n",
            "\n",
            "Datatypes of test file : \n",
            " ID           int64\n",
            "Datetime    object\n",
            "dtype: object\n"
          ],
          "name": "stdout"
        }
      ]
    },
    {
      "cell_type": "code",
      "metadata": {
        "id": "vJjgEMA5wdT2",
        "colab_type": "code",
        "outputId": "ddf19fb9-cc06-47c0-b5e0-1813eb8fbf9e",
        "colab": {
          "base_uri": "https://localhost:8080/",
          "height": 52
        }
      },
      "source": [
        "print(\"Shape of train set : \",train_original.shape)\n",
        "print(\"Shape of test set : \",test_original.shape)"
      ],
      "execution_count": 0,
      "outputs": [
        {
          "output_type": "stream",
          "text": [
            "Shape of train set :  (18288, 3)\n",
            "Shape of test set :  (5112, 2)\n"
          ],
          "name": "stdout"
        }
      ]
    },
    {
      "cell_type": "code",
      "metadata": {
        "id": "XCjtjwKtw9vK",
        "colab_type": "code",
        "colab": {}
      },
      "source": [
        "#We will extract the time and date from the Datetime. We have seen earlier that the data type of Datetime is object.\n",
        "#So first of all we have to change the data type to datetime format otherwise we can not extract features from it.\n",
        "\n",
        "train['Datetime'] = pd.to_datetime(train.Datetime,format='%d-%m-%Y %H:%M')\n",
        "test['Datetime'] = pd.to_datetime(test.Datetime,format='%d-%m-%Y %H:%M')\n",
        "\n",
        "train_original['Datetime'] = pd.to_datetime(train_original.Datetime,format='%d-%m-%Y %H:%M')\n",
        "test_original['Datetime'] = pd.to_datetime(test_original.Datetime,format='%d-%m-%Y %H:%M')"
      ],
      "execution_count": 0,
      "outputs": []
    },
    {
      "cell_type": "code",
      "metadata": {
        "id": "SkWVj2kKybUR",
        "colab_type": "code",
        "outputId": "63db2720-b997-48e5-dc15-27be71cc33fb",
        "colab": {
          "base_uri": "https://localhost:8080/",
          "height": 35
        }
      },
      "source": [
        "train_original.iloc[5].Datetime.month"
      ],
      "execution_count": 0,
      "outputs": [
        {
          "output_type": "execute_result",
          "data": {
            "text/plain": [
              "8"
            ]
          },
          "metadata": {
            "tags": []
          },
          "execution_count": 7
        }
      ]
    },
    {
      "cell_type": "code",
      "metadata": {
        "id": "SKkw5r5Byl1c",
        "colab_type": "code",
        "colab": {}
      },
      "source": [
        "for i in (train, test, test_original, train_original):\n",
        "    i['year']=i.Datetime.dt.year \n",
        "    i['month']=i.Datetime.dt.month \n",
        "    i['day']=i.Datetime.dt.day\n",
        "    i['Hour']=i.Datetime.dt.hour "
      ],
      "execution_count": 0,
      "outputs": []
    },
    {
      "cell_type": "code",
      "metadata": {
        "id": "tduz8zFdzaX4",
        "colab_type": "code",
        "outputId": "c1212794-2714-42f5-d2ad-86ae97b9d8c3",
        "colab": {
          "base_uri": "https://localhost:8080/",
          "height": 399
        }
      },
      "source": [
        "train_original"
      ],
      "execution_count": 0,
      "outputs": [
        {
          "output_type": "execute_result",
          "data": {
            "text/html": [
              "<div>\n",
              "<style scoped>\n",
              "    .dataframe tbody tr th:only-of-type {\n",
              "        vertical-align: middle;\n",
              "    }\n",
              "\n",
              "    .dataframe tbody tr th {\n",
              "        vertical-align: top;\n",
              "    }\n",
              "\n",
              "    .dataframe thead th {\n",
              "        text-align: right;\n",
              "    }\n",
              "</style>\n",
              "<table border=\"1\" class=\"dataframe\">\n",
              "  <thead>\n",
              "    <tr style=\"text-align: right;\">\n",
              "      <th></th>\n",
              "      <th>ID</th>\n",
              "      <th>Datetime</th>\n",
              "      <th>Count</th>\n",
              "      <th>year</th>\n",
              "      <th>month</th>\n",
              "      <th>day</th>\n",
              "      <th>Hour</th>\n",
              "    </tr>\n",
              "  </thead>\n",
              "  <tbody>\n",
              "    <tr>\n",
              "      <th>0</th>\n",
              "      <td>0</td>\n",
              "      <td>2012-08-25 00:00:00</td>\n",
              "      <td>8</td>\n",
              "      <td>2012</td>\n",
              "      <td>8</td>\n",
              "      <td>25</td>\n",
              "      <td>0</td>\n",
              "    </tr>\n",
              "    <tr>\n",
              "      <th>1</th>\n",
              "      <td>1</td>\n",
              "      <td>2012-08-25 01:00:00</td>\n",
              "      <td>2</td>\n",
              "      <td>2012</td>\n",
              "      <td>8</td>\n",
              "      <td>25</td>\n",
              "      <td>1</td>\n",
              "    </tr>\n",
              "    <tr>\n",
              "      <th>2</th>\n",
              "      <td>2</td>\n",
              "      <td>2012-08-25 02:00:00</td>\n",
              "      <td>6</td>\n",
              "      <td>2012</td>\n",
              "      <td>8</td>\n",
              "      <td>25</td>\n",
              "      <td>2</td>\n",
              "    </tr>\n",
              "    <tr>\n",
              "      <th>3</th>\n",
              "      <td>3</td>\n",
              "      <td>2012-08-25 03:00:00</td>\n",
              "      <td>2</td>\n",
              "      <td>2012</td>\n",
              "      <td>8</td>\n",
              "      <td>25</td>\n",
              "      <td>3</td>\n",
              "    </tr>\n",
              "    <tr>\n",
              "      <th>4</th>\n",
              "      <td>4</td>\n",
              "      <td>2012-08-25 04:00:00</td>\n",
              "      <td>2</td>\n",
              "      <td>2012</td>\n",
              "      <td>8</td>\n",
              "      <td>25</td>\n",
              "      <td>4</td>\n",
              "    </tr>\n",
              "    <tr>\n",
              "      <th>...</th>\n",
              "      <td>...</td>\n",
              "      <td>...</td>\n",
              "      <td>...</td>\n",
              "      <td>...</td>\n",
              "      <td>...</td>\n",
              "      <td>...</td>\n",
              "      <td>...</td>\n",
              "    </tr>\n",
              "    <tr>\n",
              "      <th>18283</th>\n",
              "      <td>18283</td>\n",
              "      <td>2014-09-25 19:00:00</td>\n",
              "      <td>868</td>\n",
              "      <td>2014</td>\n",
              "      <td>9</td>\n",
              "      <td>25</td>\n",
              "      <td>19</td>\n",
              "    </tr>\n",
              "    <tr>\n",
              "      <th>18284</th>\n",
              "      <td>18284</td>\n",
              "      <td>2014-09-25 20:00:00</td>\n",
              "      <td>732</td>\n",
              "      <td>2014</td>\n",
              "      <td>9</td>\n",
              "      <td>25</td>\n",
              "      <td>20</td>\n",
              "    </tr>\n",
              "    <tr>\n",
              "      <th>18285</th>\n",
              "      <td>18285</td>\n",
              "      <td>2014-09-25 21:00:00</td>\n",
              "      <td>702</td>\n",
              "      <td>2014</td>\n",
              "      <td>9</td>\n",
              "      <td>25</td>\n",
              "      <td>21</td>\n",
              "    </tr>\n",
              "    <tr>\n",
              "      <th>18286</th>\n",
              "      <td>18286</td>\n",
              "      <td>2014-09-25 22:00:00</td>\n",
              "      <td>580</td>\n",
              "      <td>2014</td>\n",
              "      <td>9</td>\n",
              "      <td>25</td>\n",
              "      <td>22</td>\n",
              "    </tr>\n",
              "    <tr>\n",
              "      <th>18287</th>\n",
              "      <td>18287</td>\n",
              "      <td>2014-09-25 23:00:00</td>\n",
              "      <td>534</td>\n",
              "      <td>2014</td>\n",
              "      <td>9</td>\n",
              "      <td>25</td>\n",
              "      <td>23</td>\n",
              "    </tr>\n",
              "  </tbody>\n",
              "</table>\n",
              "<p>18288 rows × 7 columns</p>\n",
              "</div>"
            ],
            "text/plain": [
              "          ID            Datetime  Count  year  month  day  Hour\n",
              "0          0 2012-08-25 00:00:00      8  2012      8   25     0\n",
              "1          1 2012-08-25 01:00:00      2  2012      8   25     1\n",
              "2          2 2012-08-25 02:00:00      6  2012      8   25     2\n",
              "3          3 2012-08-25 03:00:00      2  2012      8   25     3\n",
              "4          4 2012-08-25 04:00:00      2  2012      8   25     4\n",
              "...      ...                 ...    ...   ...    ...  ...   ...\n",
              "18283  18283 2014-09-25 19:00:00    868  2014      9   25    19\n",
              "18284  18284 2014-09-25 20:00:00    732  2014      9   25    20\n",
              "18285  18285 2014-09-25 21:00:00    702  2014      9   25    21\n",
              "18286  18286 2014-09-25 22:00:00    580  2014      9   25    22\n",
              "18287  18287 2014-09-25 23:00:00    534  2014      9   25    23\n",
              "\n",
              "[18288 rows x 7 columns]"
            ]
          },
          "metadata": {
            "tags": []
          },
          "execution_count": 9
        }
      ]
    },
    {
      "cell_type": "code",
      "metadata": {
        "id": "pcqpEYiMzcoR",
        "colab_type": "code",
        "colab": {}
      },
      "source": [
        "train['Day of week'] = train['Datetime'].dt.dayofweek\n",
        "temp = train['Datetime']\n",
        "\n",
        "\n",
        "#In above code, we have created a new column and inserted 'dayofweek' which will insert integer values according to the date.\n",
        "#The days in 'dayofweek' range from 0 to 6,(i.e) Monday to Sunday."
      ],
      "execution_count": 0,
      "outputs": []
    },
    {
      "cell_type": "code",
      "metadata": {
        "id": "Xj6911R21rdA",
        "colab_type": "code",
        "outputId": "b45c0ccb-59c0-4726-eb45-e540b0c60516",
        "colab": {
          "base_uri": "https://localhost:8080/",
          "height": 399
        }
      },
      "source": [
        "#Pandas.apply allow the users to pass a function and apply it on every single value of the Pandas series. \n",
        "\n",
        "def applyer(row):\n",
        "    if row.dayofweek == 5 or row.dayofweek == 6:\n",
        "      return 1\n",
        "    else:\n",
        "      return 0\n",
        "temp2 = train['Datetime'].apply(applyer)\n",
        "train['weekend'] = temp2\n",
        "\n",
        "train"
      ],
      "execution_count": 0,
      "outputs": [
        {
          "output_type": "execute_result",
          "data": {
            "text/html": [
              "<div>\n",
              "<style scoped>\n",
              "    .dataframe tbody tr th:only-of-type {\n",
              "        vertical-align: middle;\n",
              "    }\n",
              "\n",
              "    .dataframe tbody tr th {\n",
              "        vertical-align: top;\n",
              "    }\n",
              "\n",
              "    .dataframe thead th {\n",
              "        text-align: right;\n",
              "    }\n",
              "</style>\n",
              "<table border=\"1\" class=\"dataframe\">\n",
              "  <thead>\n",
              "    <tr style=\"text-align: right;\">\n",
              "      <th></th>\n",
              "      <th>ID</th>\n",
              "      <th>Datetime</th>\n",
              "      <th>Count</th>\n",
              "      <th>year</th>\n",
              "      <th>month</th>\n",
              "      <th>day</th>\n",
              "      <th>Hour</th>\n",
              "      <th>Day of week</th>\n",
              "      <th>weekend</th>\n",
              "    </tr>\n",
              "  </thead>\n",
              "  <tbody>\n",
              "    <tr>\n",
              "      <th>0</th>\n",
              "      <td>0</td>\n",
              "      <td>2012-08-25 00:00:00</td>\n",
              "      <td>8</td>\n",
              "      <td>2012</td>\n",
              "      <td>8</td>\n",
              "      <td>25</td>\n",
              "      <td>0</td>\n",
              "      <td>5</td>\n",
              "      <td>1</td>\n",
              "    </tr>\n",
              "    <tr>\n",
              "      <th>1</th>\n",
              "      <td>1</td>\n",
              "      <td>2012-08-25 01:00:00</td>\n",
              "      <td>2</td>\n",
              "      <td>2012</td>\n",
              "      <td>8</td>\n",
              "      <td>25</td>\n",
              "      <td>1</td>\n",
              "      <td>5</td>\n",
              "      <td>1</td>\n",
              "    </tr>\n",
              "    <tr>\n",
              "      <th>2</th>\n",
              "      <td>2</td>\n",
              "      <td>2012-08-25 02:00:00</td>\n",
              "      <td>6</td>\n",
              "      <td>2012</td>\n",
              "      <td>8</td>\n",
              "      <td>25</td>\n",
              "      <td>2</td>\n",
              "      <td>5</td>\n",
              "      <td>1</td>\n",
              "    </tr>\n",
              "    <tr>\n",
              "      <th>3</th>\n",
              "      <td>3</td>\n",
              "      <td>2012-08-25 03:00:00</td>\n",
              "      <td>2</td>\n",
              "      <td>2012</td>\n",
              "      <td>8</td>\n",
              "      <td>25</td>\n",
              "      <td>3</td>\n",
              "      <td>5</td>\n",
              "      <td>1</td>\n",
              "    </tr>\n",
              "    <tr>\n",
              "      <th>4</th>\n",
              "      <td>4</td>\n",
              "      <td>2012-08-25 04:00:00</td>\n",
              "      <td>2</td>\n",
              "      <td>2012</td>\n",
              "      <td>8</td>\n",
              "      <td>25</td>\n",
              "      <td>4</td>\n",
              "      <td>5</td>\n",
              "      <td>1</td>\n",
              "    </tr>\n",
              "    <tr>\n",
              "      <th>...</th>\n",
              "      <td>...</td>\n",
              "      <td>...</td>\n",
              "      <td>...</td>\n",
              "      <td>...</td>\n",
              "      <td>...</td>\n",
              "      <td>...</td>\n",
              "      <td>...</td>\n",
              "      <td>...</td>\n",
              "      <td>...</td>\n",
              "    </tr>\n",
              "    <tr>\n",
              "      <th>18283</th>\n",
              "      <td>18283</td>\n",
              "      <td>2014-09-25 19:00:00</td>\n",
              "      <td>868</td>\n",
              "      <td>2014</td>\n",
              "      <td>9</td>\n",
              "      <td>25</td>\n",
              "      <td>19</td>\n",
              "      <td>3</td>\n",
              "      <td>0</td>\n",
              "    </tr>\n",
              "    <tr>\n",
              "      <th>18284</th>\n",
              "      <td>18284</td>\n",
              "      <td>2014-09-25 20:00:00</td>\n",
              "      <td>732</td>\n",
              "      <td>2014</td>\n",
              "      <td>9</td>\n",
              "      <td>25</td>\n",
              "      <td>20</td>\n",
              "      <td>3</td>\n",
              "      <td>0</td>\n",
              "    </tr>\n",
              "    <tr>\n",
              "      <th>18285</th>\n",
              "      <td>18285</td>\n",
              "      <td>2014-09-25 21:00:00</td>\n",
              "      <td>702</td>\n",
              "      <td>2014</td>\n",
              "      <td>9</td>\n",
              "      <td>25</td>\n",
              "      <td>21</td>\n",
              "      <td>3</td>\n",
              "      <td>0</td>\n",
              "    </tr>\n",
              "    <tr>\n",
              "      <th>18286</th>\n",
              "      <td>18286</td>\n",
              "      <td>2014-09-25 22:00:00</td>\n",
              "      <td>580</td>\n",
              "      <td>2014</td>\n",
              "      <td>9</td>\n",
              "      <td>25</td>\n",
              "      <td>22</td>\n",
              "      <td>3</td>\n",
              "      <td>0</td>\n",
              "    </tr>\n",
              "    <tr>\n",
              "      <th>18287</th>\n",
              "      <td>18287</td>\n",
              "      <td>2014-09-25 23:00:00</td>\n",
              "      <td>534</td>\n",
              "      <td>2014</td>\n",
              "      <td>9</td>\n",
              "      <td>25</td>\n",
              "      <td>23</td>\n",
              "      <td>3</td>\n",
              "      <td>0</td>\n",
              "    </tr>\n",
              "  </tbody>\n",
              "</table>\n",
              "<p>18288 rows × 9 columns</p>\n",
              "</div>"
            ],
            "text/plain": [
              "          ID            Datetime  Count  year  ...  day  Hour  Day of week  weekend\n",
              "0          0 2012-08-25 00:00:00      8  2012  ...   25     0            5        1\n",
              "1          1 2012-08-25 01:00:00      2  2012  ...   25     1            5        1\n",
              "2          2 2012-08-25 02:00:00      6  2012  ...   25     2            5        1\n",
              "3          3 2012-08-25 03:00:00      2  2012  ...   25     3            5        1\n",
              "4          4 2012-08-25 04:00:00      2  2012  ...   25     4            5        1\n",
              "...      ...                 ...    ...   ...  ...  ...   ...          ...      ...\n",
              "18283  18283 2014-09-25 19:00:00    868  2014  ...   25    19            3        0\n",
              "18284  18284 2014-09-25 20:00:00    732  2014  ...   25    20            3        0\n",
              "18285  18285 2014-09-25 21:00:00    702  2014  ...   25    21            3        0\n",
              "18286  18286 2014-09-25 22:00:00    580  2014  ...   25    22            3        0\n",
              "18287  18287 2014-09-25 23:00:00    534  2014  ...   25    23            3        0\n",
              "\n",
              "[18288 rows x 9 columns]"
            ]
          },
          "metadata": {
            "tags": []
          },
          "execution_count": 11
        }
      ]
    },
    {
      "cell_type": "code",
      "metadata": {
        "id": "CGcvvb9k1sJV",
        "colab_type": "code",
        "outputId": "943d4dde-9cd0-4d71-ed45-fb470f8088f7",
        "colab": {
          "base_uri": "https://localhost:8080/",
          "height": 397
        }
      },
      "source": [
        "train.index = train['Datetime']\n",
        "ts = train['Count'] \n",
        "plt.figure(figsize=(16,8)) \n",
        "plt.plot(ts, label='Passenger Count') \n",
        "plt.title('Time Series') \n",
        "plt.xlabel(\"Time(year-month)\") \n",
        "plt.ylabel(\"Passenger count\") \n",
        "plt.legend(loc='best')\n",
        "plt.show()"
      ],
      "execution_count": 0,
      "outputs": [
        {
          "output_type": "display_data",
          "data": {
            "image/png": "[encoded data removed]",
            "text/plain": [
              "<Figure size 1152x576 with 1 Axes>"
            ]
          },
          "metadata": {
            "tags": []
          }
        }
      ]
    },
    {
      "cell_type": "markdown",
      "metadata": {
        "id": "EkmHHfSU7RI6",
        "colab_type": "text"
      },
      "source": [
        "### Here we can infer that there is an increasing trend in the series, i.e., the number of count is increasing with respect to time. We can also see that at certain points there is a sudden increase in the number of counts. The possible reason behind this could be that on particular day, due to some event the traffic was high."
      ]
    },
    {
      "cell_type": "markdown",
      "metadata": {
        "id": "eIlFTdG1iI_d",
        "colab_type": "text"
      },
      "source": [
        "## Hypotheses\n",
        "\n",
        "\n",
        "### 1.   Traffic will increase as the years pass by\n",
        "### 2.   Traffic will be high from May to October\n",
        "### 3.   Traffic on weekdays will be more\n",
        "### 4.   Traffic during the peak hours will be high\n",
        "\n",
        "\n"
      ]
    },
    {
      "cell_type": "code",
      "metadata": {
        "id": "zqO7tMVz6sjI",
        "colab_type": "code",
        "outputId": "dbf629b2-33f2-4574-8f05-4a60dfe86c15",
        "colab": {
          "base_uri": "https://localhost:8080/",
          "height": 313
        }
      },
      "source": [
        "# 1)Traffic will increase as the years pass by\n",
        "train.groupby('year')['Count'].mean().plot.bar()\n",
        "\n",
        "# groupby groups all the values under given attribute"
      ],
      "execution_count": 0,
      "outputs": [
        {
          "output_type": "execute_result",
          "data": {
            "text/plain": [
              "<matplotlib.axes._subplots.AxesSubplot at 0x7f0ed4212470>"
            ]
          },
          "metadata": {
            "tags": []
          },
          "execution_count": 17
        },
        {
          "output_type": "display_data",
          "data": {
            "image/png": "[encoded data removed]",
            "text/plain": [
              "<Figure size 432x288 with 1 Axes>"
            ]
          },
          "metadata": {
            "tags": []
          }
        }
      ]
    },
    {
      "cell_type": "code",
      "metadata": {
        "id": "fbYtGq-qjh6_",
        "colab_type": "code",
        "outputId": "dee624bf-f644-48ea-c8da-b9bb7cb2a80b",
        "colab": {
          "base_uri": "https://localhost:8080/",
          "height": 300
        }
      },
      "source": [
        "# 2)Traffic will be high from May to October\n",
        "train.groupby('month')['Count'].mean().plot.bar()\n"
      ],
      "execution_count": 0,
      "outputs": [
        {
          "output_type": "execute_result",
          "data": {
            "text/plain": [
              "<matplotlib.axes._subplots.AxesSubplot at 0x7f0ed3d2d518>"
            ]
          },
          "metadata": {
            "tags": []
          },
          "execution_count": 23
        },
        {
          "output_type": "display_data",
          "data": {
            "image/png": "[encoded data removed]",
            "text/plain": [
              "<Figure size 432x288 with 1 Axes>"
            ]
          },
          "metadata": {
            "tags": []
          }
        }
      ]
    },
    {
      "cell_type": "code",
      "metadata": {
        "id": "d50RSkfglkJ-",
        "colab_type": "code",
        "outputId": "6ddd2f47-ca01-4de5-f98b-1f8cb0ee0339",
        "colab": {
          "base_uri": "https://localhost:8080/",
          "height": 283
        }
      },
      "source": [
        "temp =  train.groupby(['year','month'])['Count'].mean()\n",
        "\n",
        "temp.plot(figsize=(15,5),title='Passenger Count(Monthwise)')\n",
        "\n",
        "plt.show()"
      ],
      "execution_count": 0,
      "outputs": [
        {
          "output_type": "display_data",
          "data": {
            "image/png": "[encoded data removed]",
            "text/plain": [
              "<Figure size 1080x360 with 1 Axes>"
            ]
          },
          "metadata": {
            "tags": []
          }
        }
      ]
    },
    {
      "cell_type": "code",
      "metadata": {
        "id": "jY-Snbb_kP6U",
        "colab_type": "code",
        "outputId": "acf40900-f83d-471d-d74d-9a509ce95cc1",
        "colab": {
          "base_uri": "https://localhost:8080/",
          "height": 294
        }
      },
      "source": [
        "# 3)Traffic on weekdays will be more\n",
        "train.groupby('weekend')['Count'].mean().plot.bar()"
      ],
      "execution_count": 0,
      "outputs": [
        {
          "output_type": "execute_result",
          "data": {
            "text/plain": [
              "<matplotlib.axes._subplots.AxesSubplot at 0x7f0ed33275f8>"
            ]
          },
          "metadata": {
            "tags": []
          },
          "execution_count": 37
        },
        {
          "output_type": "display_data",
          "data": {
            "image/png": "[encoded data removed]",
            "text/plain": [
              "<Figure size 432x288 with 1 Axes>"
            ]
          },
          "metadata": {
            "tags": []
          }
        }
      ]
    },
    {
      "cell_type": "code",
      "metadata": {
        "id": "ydsTvZddn5DS",
        "colab_type": "code",
        "outputId": "cc9019a9-ae4f-401b-fd89-a5717d35542c",
        "colab": {
          "base_uri": "https://localhost:8080/",
          "height": 294
        }
      },
      "source": [
        "train.groupby('Day of week')['Count'].mean().plot.bar()"
      ],
      "execution_count": 0,
      "outputs": [
        {
          "output_type": "execute_result",
          "data": {
            "text/plain": [
              "<matplotlib.axes._subplots.AxesSubplot at 0x7f0eccd060b8>"
            ]
          },
          "metadata": {
            "tags": []
          },
          "execution_count": 39
        },
        {
          "output_type": "display_data",
          "data": {
            "image/png": "[encoded data removed]",
            "text/plain": [
              "<Figure size 432x288 with 1 Axes>"
            ]
          },
          "metadata": {
            "tags": []
          }
        }
      ]
    },
    {
      "cell_type": "code",
      "metadata": {
        "id": "mbyk5E03k3FT",
        "colab_type": "code",
        "outputId": "586dfaa1-ae87-4388-f84c-188ec9ea5902",
        "colab": {
          "base_uri": "https://localhost:8080/",
          "height": 300
        }
      },
      "source": [
        "# 4)Traffic during the peak hours will be high\n",
        "train.groupby('Hour')['Count'].mean().plot.bar()"
      ],
      "execution_count": 0,
      "outputs": [
        {
          "output_type": "execute_result",
          "data": {
            "text/plain": [
              "<matplotlib.axes._subplots.AxesSubplot at 0x7f0ed39c3748>"
            ]
          },
          "metadata": {
            "tags": []
          },
          "execution_count": 27
        },
        {
          "output_type": "display_data",
          "data": {
            "image/png": "[encoded data removed]",
            "text/plain": [
              "<Figure size 432x288 with 1 Axes>"
            ]
          },
          "metadata": {
            "tags": []
          }
        }
      ]
    },
    {
      "cell_type": "code",
      "metadata": {
        "id": "nKJZ0tGolMwv",
        "colab_type": "code",
        "colab": {}
      },
      "source": [
        "# Dropping the ID as it has no use with passenger count\n",
        "\n",
        "train = train.drop('ID',1)"
      ],
      "execution_count": 0,
      "outputs": []
    },
    {
      "cell_type": "markdown",
      "metadata": {
        "id": "3mHs2M04oSk9",
        "colab_type": "text"
      },
      "source": [
        "### As we have seen that there is a lot of noise in the hourly time series, we will aggregate the hourly time series to daily, weekly, and monthly time series to reduce the noise and make it more stable and hence would be easier for a model to learn."
      ]
    },
    {
      "cell_type": "code",
      "metadata": {
        "id": "ZJzZLXJ-oKOU",
        "colab_type": "code",
        "colab": {}
      },
      "source": [
        "train.Timestamp = pd.to_datetime(train.Datetime,format='%d-%m-%Y %H:%M') \n",
        "train.index = train.Timestamp \n",
        "#Hourly Timeseries\n",
        "hourly = train.resample('H').mean() #Hourly mean of each year\n",
        "#Daily Timeseries\n",
        "daily = train.resample('D').mean()  #Daily mean of each year\n",
        "# Converting to weekly mean \n",
        "weekly = train.resample('W').mean() #Weekly mean of each year\n",
        "# Converting to monthly mean \n",
        "monthly = train.resample('M').mean()#Monthly mean of each year"
      ],
      "execution_count": 0,
      "outputs": []
    },
    {
      "cell_type": "code",
      "metadata": {
        "id": "eyFfUZENp3Gm",
        "colab_type": "code",
        "outputId": "a3b85f78-cfff-421c-ed6b-5d8659fdbe3a",
        "colab": {
          "base_uri": "https://localhost:8080/",
          "height": 1000
        }
      },
      "source": [
        "fig, axs = plt.subplots(4,1) \n",
        "hourly.Count.plot(figsize=(15,8), title= 'Hourly', fontsize=14, ax=axs[0]) \n",
        "daily.Count.plot(figsize=(15,8), title= 'Daily', fontsize=14, ax=axs[1]) \n",
        "weekly.Count.plot(figsize=(15,8), title= 'Weekly', fontsize=14, ax=axs[2]) \n",
        "monthly.Count.plot(figsize=(15,8), title= 'Monthly', fontsize=14, ax=axs[3])\n",
        "\n",
        "plt.show()"
      ],
      "execution_count": 0,
      "outputs": [
        {
          "output_type": "stream",
          "text": [
            "/usr/local/lib/python3.6/dist-packages/pandas/plotting/_matplotlib/tools.py:307: MatplotlibDeprecationWarning: \n",
            "The rowNum attribute was deprecated in Matplotlib 3.2 and will be removed two minor releases later. Use ax.get_subplotspec().rowspan.start instead.\n",
            "  layout[ax.rowNum, ax.colNum] = ax.get_visible()\n",
            "/usr/local/lib/python3.6/dist-packages/pandas/plotting/_matplotlib/tools.py:307: MatplotlibDeprecationWarning: \n",
            "The colNum attribute was deprecated in Matplotlib 3.2 and will be removed two minor releases later. Use ax.get_subplotspec().colspan.start instead.\n",
            "  layout[ax.rowNum, ax.colNum] = ax.get_visible()\n",
            "/usr/local/lib/python3.6/dist-packages/pandas/plotting/_matplotlib/tools.py:313: MatplotlibDeprecationWarning: \n",
            "The rowNum attribute was deprecated in Matplotlib 3.2 and will be removed two minor releases later. Use ax.get_subplotspec().rowspan.start instead.\n",
            "  if not layout[ax.rowNum + 1, ax.colNum]:\n",
            "/usr/local/lib/python3.6/dist-packages/pandas/plotting/_matplotlib/tools.py:313: MatplotlibDeprecationWarning: \n",
            "The colNum attribute was deprecated in Matplotlib 3.2 and will be removed two minor releases later. Use ax.get_subplotspec().colspan.start instead.\n",
            "  if not layout[ax.rowNum + 1, ax.colNum]:\n",
            "/usr/local/lib/python3.6/dist-packages/pandas/plotting/_matplotlib/tools.py:307: MatplotlibDeprecationWarning: \n",
            "The rowNum attribute was deprecated in Matplotlib 3.2 and will be removed two minor releases later. Use ax.get_subplotspec().rowspan.start instead.\n",
            "  layout[ax.rowNum, ax.colNum] = ax.get_visible()\n",
            "/usr/local/lib/python3.6/dist-packages/pandas/plotting/_matplotlib/tools.py:307: MatplotlibDeprecationWarning: \n",
            "The colNum attribute was deprecated in Matplotlib 3.2 and will be removed two minor releases later. Use ax.get_subplotspec().colspan.start instead.\n",
            "  layout[ax.rowNum, ax.colNum] = ax.get_visible()\n",
            "/usr/local/lib/python3.6/dist-packages/pandas/plotting/_matplotlib/tools.py:313: MatplotlibDeprecationWarning: \n",
            "The rowNum attribute was deprecated in Matplotlib 3.2 and will be removed two minor releases later. Use ax.get_subplotspec().rowspan.start instead.\n",
            "  if not layout[ax.rowNum + 1, ax.colNum]:\n",
            "/usr/local/lib/python3.6/dist-packages/pandas/plotting/_matplotlib/tools.py:313: MatplotlibDeprecationWarning: \n",
            "The colNum attribute was deprecated in Matplotlib 3.2 and will be removed two minor releases later. Use ax.get_subplotspec().colspan.start instead.\n",
            "  if not layout[ax.rowNum + 1, ax.colNum]:\n",
            "/usr/local/lib/python3.6/dist-packages/pandas/plotting/_matplotlib/tools.py:307: MatplotlibDeprecationWarning: \n",
            "The rowNum attribute was deprecated in Matplotlib 3.2 and will be removed two minor releases later. Use ax.get_subplotspec().rowspan.start instead.\n",
            "  layout[ax.rowNum, ax.colNum] = ax.get_visible()\n",
            "/usr/local/lib/python3.6/dist-packages/pandas/plotting/_matplotlib/tools.py:307: MatplotlibDeprecationWarning: \n",
            "The colNum attribute was deprecated in Matplotlib 3.2 and will be removed two minor releases later. Use ax.get_subplotspec().colspan.start instead.\n",
            "  layout[ax.rowNum, ax.colNum] = ax.get_visible()\n",
            "/usr/local/lib/python3.6/dist-packages/pandas/plotting/_matplotlib/tools.py:313: MatplotlibDeprecationWarning: \n",
            "The rowNum attribute was deprecated in Matplotlib 3.2 and will be removed two minor releases later. Use ax.get_subplotspec().rowspan.start instead.\n",
            "  if not layout[ax.rowNum + 1, ax.colNum]:\n",
            "/usr/local/lib/python3.6/dist-packages/pandas/plotting/_matplotlib/tools.py:313: MatplotlibDeprecationWarning: \n",
            "The colNum attribute was deprecated in Matplotlib 3.2 and will be removed two minor releases later. Use ax.get_subplotspec().colspan.start instead.\n",
            "  if not layout[ax.rowNum + 1, ax.colNum]:\n",
            "/usr/local/lib/python3.6/dist-packages/pandas/plotting/_matplotlib/tools.py:307: MatplotlibDeprecationWarning: \n",
            "The rowNum attribute was deprecated in Matplotlib 3.2 and will be removed two minor releases later. Use ax.get_subplotspec().rowspan.start instead.\n",
            "  layout[ax.rowNum, ax.colNum] = ax.get_visible()\n",
            "/usr/local/lib/python3.6/dist-packages/pandas/plotting/_matplotlib/tools.py:307: MatplotlibDeprecationWarning: \n",
            "The colNum attribute was deprecated in Matplotlib 3.2 and will be removed two minor releases later. Use ax.get_subplotspec().colspan.start instead.\n",
            "  layout[ax.rowNum, ax.colNum] = ax.get_visible()\n",
            "/usr/local/lib/python3.6/dist-packages/pandas/plotting/_matplotlib/tools.py:313: MatplotlibDeprecationWarning: \n",
            "The rowNum attribute was deprecated in Matplotlib 3.2 and will be removed two minor releases later. Use ax.get_subplotspec().rowspan.start instead.\n",
            "  if not layout[ax.rowNum + 1, ax.colNum]:\n",
            "/usr/local/lib/python3.6/dist-packages/pandas/plotting/_matplotlib/tools.py:313: MatplotlibDeprecationWarning: \n",
            "The colNum attribute was deprecated in Matplotlib 3.2 and will be removed two minor releases later. Use ax.get_subplotspec().colspan.start instead.\n",
            "  if not layout[ax.rowNum + 1, ax.colNum]:\n"
          ],
          "name": "stderr"
        },
        {
          "output_type": "display_data",
          "data": {
            "image/png": "[encoded data removed]",
            "text/plain": [
              "<Figure size 1080x576 with 4 Axes>"
            ]
          },
          "metadata": {
            "tags": []
          }
        }
      ]
    },
    {
      "cell_type": "markdown",
      "metadata": {
        "id": "ouJLei2s1HWe",
        "colab_type": "text"
      },
      "source": [
        "### We can see that the time series is becoming more and more stable when we are aggregating it on daily, weekly and monthly basis.\n",
        "\n",
        "\n",
        "### But it would be difficult to convert the monthly and weekly predictions to hourly predictions, as first we have to convert the monthly predictions to weekly, weekly to daily and daily to hourly predictions, which will become very expanded process. So, we will work on the daily time series."
      ]
    },
    {
      "cell_type": "code",
      "metadata": {
        "id": "rHZRrCB1v-uU",
        "colab_type": "code",
        "colab": {}
      },
      "source": [
        "# Converting to daily mean \n",
        "test = test.resample('D').mean() "
      ],
      "execution_count": 0,
      "outputs": []
    },
    {
      "cell_type": "code",
      "metadata": {
        "id": "189xZ-FBv_0q",
        "colab_type": "code",
        "colab": {}
      },
      "source": [
        "# Converting to daily mean \n",
        "train = train.resample('D').mean()"
      ],
      "execution_count": 0,
      "outputs": []
    },
    {
      "cell_type": "code",
      "metadata": {
        "id": "uwWvaDZjwDB6",
        "colab_type": "code",
        "outputId": "7f664dc7-7058-415d-d3aa-af4a39734dff",
        "colab": {
          "base_uri": "https://localhost:8080/",
          "height": 428
        }
      },
      "source": [
        "train"
      ],
      "execution_count": 0,
      "outputs": [
        {
          "output_type": "execute_result",
          "data": {
            "text/html": [
              "<div>\n",
              "<style scoped>\n",
              "    .dataframe tbody tr th:only-of-type {\n",
              "        vertical-align: middle;\n",
              "    }\n",
              "\n",
              "    .dataframe tbody tr th {\n",
              "        vertical-align: top;\n",
              "    }\n",
              "\n",
              "    .dataframe thead th {\n",
              "        text-align: right;\n",
              "    }\n",
              "</style>\n",
              "<table border=\"1\" class=\"dataframe\">\n",
              "  <thead>\n",
              "    <tr style=\"text-align: right;\">\n",
              "      <th></th>\n",
              "      <th>Count</th>\n",
              "      <th>year</th>\n",
              "      <th>month</th>\n",
              "      <th>day</th>\n",
              "      <th>Hour</th>\n",
              "      <th>Day of week</th>\n",
              "      <th>weekend</th>\n",
              "    </tr>\n",
              "    <tr>\n",
              "      <th>Datetime</th>\n",
              "      <th></th>\n",
              "      <th></th>\n",
              "      <th></th>\n",
              "      <th></th>\n",
              "      <th></th>\n",
              "      <th></th>\n",
              "      <th></th>\n",
              "    </tr>\n",
              "  </thead>\n",
              "  <tbody>\n",
              "    <tr>\n",
              "      <th>2012-08-25</th>\n",
              "      <td>3.166667</td>\n",
              "      <td>2012.0</td>\n",
              "      <td>8.0</td>\n",
              "      <td>25.0</td>\n",
              "      <td>11.5</td>\n",
              "      <td>5.0</td>\n",
              "      <td>1.0</td>\n",
              "    </tr>\n",
              "    <tr>\n",
              "      <th>2012-08-26</th>\n",
              "      <td>3.666667</td>\n",
              "      <td>2012.0</td>\n",
              "      <td>8.0</td>\n",
              "      <td>26.0</td>\n",
              "      <td>11.5</td>\n",
              "      <td>6.0</td>\n",
              "      <td>1.0</td>\n",
              "    </tr>\n",
              "    <tr>\n",
              "      <th>2012-08-27</th>\n",
              "      <td>2.583333</td>\n",
              "      <td>2012.0</td>\n",
              "      <td>8.0</td>\n",
              "      <td>27.0</td>\n",
              "      <td>11.5</td>\n",
              "      <td>0.0</td>\n",
              "      <td>0.0</td>\n",
              "    </tr>\n",
              "    <tr>\n",
              "      <th>2012-08-28</th>\n",
              "      <td>2.416667</td>\n",
              "      <td>2012.0</td>\n",
              "      <td>8.0</td>\n",
              "      <td>28.0</td>\n",
              "      <td>11.5</td>\n",
              "      <td>1.0</td>\n",
              "      <td>0.0</td>\n",
              "    </tr>\n",
              "    <tr>\n",
              "      <th>2012-08-29</th>\n",
              "      <td>2.500000</td>\n",
              "      <td>2012.0</td>\n",
              "      <td>8.0</td>\n",
              "      <td>29.0</td>\n",
              "      <td>11.5</td>\n",
              "      <td>2.0</td>\n",
              "      <td>0.0</td>\n",
              "    </tr>\n",
              "    <tr>\n",
              "      <th>...</th>\n",
              "      <td>...</td>\n",
              "      <td>...</td>\n",
              "      <td>...</td>\n",
              "      <td>...</td>\n",
              "      <td>...</td>\n",
              "      <td>...</td>\n",
              "      <td>...</td>\n",
              "    </tr>\n",
              "    <tr>\n",
              "      <th>2014-09-21</th>\n",
              "      <td>379.250000</td>\n",
              "      <td>2014.0</td>\n",
              "      <td>9.0</td>\n",
              "      <td>21.0</td>\n",
              "      <td>11.5</td>\n",
              "      <td>6.0</td>\n",
              "      <td>1.0</td>\n",
              "    </tr>\n",
              "    <tr>\n",
              "      <th>2014-09-22</th>\n",
              "      <td>588.166667</td>\n",
              "      <td>2014.0</td>\n",
              "      <td>9.0</td>\n",
              "      <td>22.0</td>\n",
              "      <td>11.5</td>\n",
              "      <td>0.0</td>\n",
              "      <td>0.0</td>\n",
              "    </tr>\n",
              "    <tr>\n",
              "      <th>2014-09-23</th>\n",
              "      <td>554.333333</td>\n",
              "      <td>2014.0</td>\n",
              "      <td>9.0</td>\n",
              "      <td>23.0</td>\n",
              "      <td>11.5</td>\n",
              "      <td>1.0</td>\n",
              "      <td>0.0</td>\n",
              "    </tr>\n",
              "    <tr>\n",
              "      <th>2014-09-24</th>\n",
              "      <td>702.333333</td>\n",
              "      <td>2014.0</td>\n",
              "      <td>9.0</td>\n",
              "      <td>24.0</td>\n",
              "      <td>11.5</td>\n",
              "      <td>2.0</td>\n",
              "      <td>0.0</td>\n",
              "    </tr>\n",
              "    <tr>\n",
              "      <th>2014-09-25</th>\n",
              "      <td>589.666667</td>\n",
              "      <td>2014.0</td>\n",
              "      <td>9.0</td>\n",
              "      <td>25.0</td>\n",
              "      <td>11.5</td>\n",
              "      <td>3.0</td>\n",
              "      <td>0.0</td>\n",
              "    </tr>\n",
              "  </tbody>\n",
              "</table>\n",
              "<p>762 rows × 7 columns</p>\n",
              "</div>"
            ],
            "text/plain": [
              "                 Count    year  month   day  Hour  Day of week  weekend\n",
              "Datetime                                                               \n",
              "2012-08-25    3.166667  2012.0    8.0  25.0  11.5          5.0      1.0\n",
              "2012-08-26    3.666667  2012.0    8.0  26.0  11.5          6.0      1.0\n",
              "2012-08-27    2.583333  2012.0    8.0  27.0  11.5          0.0      0.0\n",
              "2012-08-28    2.416667  2012.0    8.0  28.0  11.5          1.0      0.0\n",
              "2012-08-29    2.500000  2012.0    8.0  29.0  11.5          2.0      0.0\n",
              "...                ...     ...    ...   ...   ...          ...      ...\n",
              "2014-09-21  379.250000  2014.0    9.0  21.0  11.5          6.0      1.0\n",
              "2014-09-22  588.166667  2014.0    9.0  22.0  11.5          0.0      0.0\n",
              "2014-09-23  554.333333  2014.0    9.0  23.0  11.5          1.0      0.0\n",
              "2014-09-24  702.333333  2014.0    9.0  24.0  11.5          2.0      0.0\n",
              "2014-09-25  589.666667  2014.0    9.0  25.0  11.5          3.0      0.0\n",
              "\n",
              "[762 rows x 7 columns]"
            ]
          },
          "metadata": {
            "tags": []
          },
          "execution_count": 77
        }
      ]
    },
    {
      "cell_type": "code",
      "metadata": {
        "id": "j60cxT7hwlwZ",
        "colab_type": "code",
        "colab": {}
      },
      "source": [
        ""
      ],
      "execution_count": 0,
      "outputs": []
    }
  ]
}